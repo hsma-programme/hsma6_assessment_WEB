{
 "cells": [
  {
   "cell_type": "markdown",
   "metadata": {},
   "source": [
    "## HSMA 6 Certification Assessment"
   ]
  },
  {
   "cell_type": "markdown",
   "metadata": {},
   "source": [
    "## Part 1\n",
    "\n",
    "### SECTION A - Core Python\n",
    "You should complete **all** of the tasks in this section."
   ]
  },
  {
   "cell_type": "markdown",
   "metadata": {},
   "source": [
    "**Task A1** \n",
    "\n",
    "Study the following code.  \n",
    "\n",
    "Add to the code cell some conditional logic that checks whether the randomly generated variable `age` is already in the list of ages.  \n",
    "\n",
    "If it is, a message should be printed to the user confirming the age and the fact that it is in the list.  \n",
    "\n",
    "If it is not, the age should be added to the list, and a message printed confirming the age that has been added to the list. \n",
    "\n",
    "*(5 marks)*"
   ]
  },
  {
   "cell_type": "code",
   "execution_count": null,
   "metadata": {},
   "outputs": [],
   "source": [
    "import random\n",
    "\n",
    "list_of_ages = [46, 21, 23, 81, 52]\n",
    "\n",
    "age = random.randint(1,100)\n",
    "\n",
    "# ADD YOUR CODE"
   ]
  },
  {
   "cell_type": "markdown",
   "metadata": {},
   "source": [
    "**Task A2** \n",
    "\n",
    "Add a function to the following code that takes as its input a list of numbers, and return how many numbers in the list are precisely divisible by 3.  \n",
    "\n",
    "Once you've written the function definition, call the function on the randomly generated list of ages, and print a message confirming how many ages in the list are divisible by 3. \n",
    "\n",
    "*(10 marks)*"
   ]
  },
  {
   "cell_type": "code",
   "execution_count": null,
   "metadata": {},
   "outputs": [],
   "source": [
    "import random\n",
    "\n",
    "list_of_ages = [random.randint(1,100) for x in range(100)]\n",
    "\n",
    "# ADD YOUR CODE"
   ]
  },
  {
   "cell_type": "markdown",
   "metadata": {},
   "source": [
    "**Task A3** \n",
    "\n",
    "In the following code cell, write a class definiton for a class representing a jukebox.  The jukebox should have two attributes - an era of music that it represents (stored as a string) and a dictionary which stores numbers against song titles.  The era is specified when the Jukebox is created, and the jukebox begins with no songs in its dictionary.  The jukebox class should also have three methods :\n",
    "\n",
    "- one to add a song, given a song title and a song number\n",
    "- one to remove a song, given a song number\n",
    "- one to display the current songs on the jukebox, as well as a message to the user telling them what era of songs the jukebox has\n",
    "\n",
    "Once you've written the class definition, you should create a new jukebox named `eighties_jukebox` (Note - do NOT name it `80s_jukebox` or you will run into problems).  Add three songs to the jukebox :\n",
    "- Song 1 : The One and Only\n",
    "- Song 2 : Everywhere\n",
    "- Song 3 : West End Girls\n",
    "\n",
    "Then display the current songs on the jukebox.\n",
    "\n",
    "Then, remove song 2, and display the current songs again. \n",
    "\n",
    "*(15 marks)*"
   ]
  },
  {
   "cell_type": "code",
   "execution_count": null,
   "metadata": {},
   "outputs": [],
   "source": [
    "# ADD YOUR CODE"
   ]
  },
  {
   "cell_type": "markdown",
   "metadata": {},
   "source": [
    "---\n",
    "\n",
    "## Part 2\n",
    "\n",
    "You should now select just **TWO** of the following sections to answer.  \n",
    "\n",
    "Do not answer more than two, as only two will be marked.  \n",
    "\n",
    "It is also recommended that if you change your mind about tackling a particular task and choose another instead, you should delete any code you began in the task you rejected before submitting your notebook.  \n",
    "\n",
    "All tasks in the following sections are worth identical marks.\n",
    "\n",
    "---"
   ]
  },
  {
   "cell_type": "markdown",
   "metadata": {},
   "source": [
    "#### SECTION B - Discrete Event Simulation"
   ]
  },
  {
   "cell_type": "markdown",
   "metadata": {},
   "source": [
    "**Task B** \n",
    "\n",
    "*Use the **des** environment for this question*\n",
    "\n",
    "Study the following simplified SimPy model of Dan's Diner.  In Dan's Diner, diners arrive, wait for a server to order their food, then wait for a table to sit and eat their food before leaving.  Your task is to complete the missing code as indicated below.  Specifically :\n",
    "\n",
    "- write the code for the generator function that generates new diner arrivals (`generator_diner_arrivals`).  You should use the `diner_counter` to provide each diner with a unique ID.  You should assume that the inter-arrival times of diners are exponentially distributed.\n",
    "- write the code for the generator function representing an individual diner's journey through Dan's Diner (`attend_diner`).  You should assume that the times that diners spend ordering and eating are exponentionally distributed.  You should calculate the time each diner spends in each queue and record this against their attributes (`q_time_order` and `q_time_table`).  HOWEVER, you do NOT need to record the data anywhere else, such as in a DataFrame.\n",
    "\n",
    "You should note that this is a simplified model that only runs for one run and does not record results across the run - the only recorded metrics are the queuing times stored by each diner.  If you have written the code correctly, the model should run and display messages such as \"Diner 11 waited 3 mins to be served and 10 mins for a table\" \n",
    "\n",
    "*(20 marks)*"
   ]
  },
  {
   "cell_type": "code",
   "execution_count": null,
   "metadata": {},
   "outputs": [],
   "source": [
    "import simpy\n",
    "import random\n",
    "\n",
    "class g:\n",
    "    diner_inter = 1\n",
    "    mean_order_time = 2\n",
    "    mean_eating_time = 15\n",
    "    number_of_servers = 2\n",
    "    number_of_tables = 5\n",
    "    sim_duration = 120\n",
    "\n",
    "class Diner:\n",
    "    def __init__(self, d_id):\n",
    "        self.id = d_id\n",
    "        self.q_time_order = 0\n",
    "        self.q_time_table = 0\n",
    "\n",
    "class Dans_Diner_Model:\n",
    "    def __init__(self):\n",
    "        self.env = simpy.Environment()\n",
    "\n",
    "        self.diner_counter = 0\n",
    "\n",
    "        self.server = simpy.Resource(self.env, capacity=g.number_of_servers)\n",
    "        self.table = simpy.Resource(self.env, capacity=g.number_of_tables)\n",
    "\n",
    "    def generator_diner_arrivals(self):\n",
    "        # ADD YOUR CODE\n",
    "\n",
    "    def attend_diner(self, diner):\n",
    "        # ADD YOUR CODE\n",
    "\n",
    "        print (f\"Diner {diner.id} waited {diner.q_time_order:.0f} mins to be\",\n",
    "               f\"served and {diner.q_time_table:.0f} mins for a table\")\n",
    "\n",
    "    def run(self):\n",
    "        self.env.process(self.generator_diner_arrivals())\n",
    "        self.env.run(until=g.sim_duration)\n",
    "\n",
    "my_diner_model = Dans_Diner_Model()\n",
    "my_diner_model.run()\n"
   ]
  },
  {
   "cell_type": "markdown",
   "metadata": {},
   "source": [
    "#### SECTION C - GEOGRAPHIC MODELLING AND VISUALISATION"
   ]
  },
  {
   "cell_type": "markdown",
   "metadata": {},
   "source": [
    "**Task C** \n",
    "\n",
    "*Use the **geographic** environment for this question*\n",
    "\n",
    "You have been provided with \n",
    "- the name, latitude and longitude of the 20 biggest theme parks in England and Wales *(theme_park_locations_gdf)*\n",
    "- the travel times (by car, in minutes) to these theme parks from a range of Local Authorities in England and Wales *(travel_times_df)*\n",
    "- a geographic data file containing the boundaries of these local authorities *(local_authority_boundaries_gdf)*\n",
    "\n",
    "In the code cell below, create a static (non-interactive) map showing the travel time from each Local Authority to its **nearest** theme park. \n",
    "\n",
    "You will need to perform the following steps to create this map. \n",
    "\n",
    "1. Create an extra column in the dataframe *travel_times_df* calculating the nearest theme park for each Local Authority.\n",
    "\n",
    "2. Join *local_authority_boundaries_gdf* and *travel_times_df*. \n",
    "    - Note that they both contain the column \"LAD21NM\", though it is the *index* of *local_authority_boundaries_gdf*. You may need to use the command *.reset_index()* on *local_authority_boundaries_gdf* during this step. \n",
    "\n",
    "3. Plot the travel times.\n",
    "    - The colour of each Local Authority should reflect the travel time to the location. \n",
    "    - Your map should include\n",
    "        - a legend showing what the colour indicates\n",
    "        - a title\n",
    "\n",
    "4. Finally, plot the location of the theme parks *(theme_park_locations_gdf)* as points on the **same map**. Use 'blue' as the colour for the points.  \n",
    "\n",
    "Note that all geographic data in this task makes use of latitude and longitude. If you are specifying a CRS in your code, use **EPSG:4326**. \n",
    "\n",
    "*(20 marks)*"
   ]
  },
  {
   "cell_type": "code",
   "execution_count": null,
   "metadata": {},
   "outputs": [],
   "source": [
    "import pandas as pd\n",
    "import geopandas\n",
    "import matplotlib.pyplot as plt\n",
    "\n",
    "travel_times_df = pd.read_csv(\"data/la_to_theme_park_travel.csv\", index_col=\"LAD21NM\")\n",
    "theme_park_locations_gdf = geopandas.read_file(\"data/Theme_Parks_England.geojson\")\n",
    "local_authority_boundaries_gdf = geopandas.read_file(\"data/local_authority_boundaries.geojson\")\n",
    "\n",
    "# ADD YOUR CODE"
   ]
  },
  {
   "cell_type": "markdown",
   "metadata": {},
   "source": [
    "#### SECTION D - DEEP LEARNING"
   ]
  },
  {
   "cell_type": "markdown",
   "metadata": {},
   "source": [
    "**Task D**\n",
    "\n",
    "*Use the **tf_hsma** environment for this question*\n",
    "\n",
    "In the code cell below, using the Keras API build a Sequential Neural Network comprised of : \n",
    "- A densely connected layer with 16 hidden neurons, an input dimension of 30 features and a rectified linear unit activation function on each neuron\n",
    "- A dropout layer with a dropout rate of 40%\n",
    "- Another pair of layers exactly as described above\n",
    "- An output layer consisting of one densely connected neuron with a sigmoid activation function\n",
    "\n",
    "Once you have built the model, compile it with a binary crossentropy loss function, an Adam optimizer and a metric of accuracy to monitor.  Then print a summary of the network's structure.\n",
    "\n",
    "Note - you do not need to read in, use or manipulate any data for this task, nor do you need to train the model.  Just build the structure of the network, compile it and show a summary of its structure. \n",
    "\n",
    "\n",
    "*(20 marks)*"
   ]
  },
  {
   "cell_type": "code",
   "execution_count": null,
   "metadata": {},
   "outputs": [],
   "source": [
    "from tensorflow import keras\n",
    "from tensorflow.keras import backend as K\n",
    "from tensorflow.keras.models import Sequential\n",
    "from tensorflow.keras.layers import Dense\n",
    "from tensorflow.keras.layers import Dropout\n",
    "\n",
    "# ADD YOUR CODE"
   ]
  },
  {
   "cell_type": "markdown",
   "metadata": {},
   "source": [
    "#### SECTION E - TREE-BASED MACHINE LEARNING MODELS\n",
    "\n",
    "**Task E** \n",
    "\n",
    "*Use the **ml_sammi** environment for this question*\n",
    "\n",
    "Dan has been keeping a record of the different cat treats Prince likes, and the details of those treats such as their protein content and the main flavours. This is stored in `prince_treats.csv`.\n",
    "\n",
    "Train an XGBoost model on the provided dataset. \n",
    "\n",
    "- Split the data into X (your features) and y (your target - the column `prince_likes`, with 1 indicating that Prince liked the treat and 0 indicating that he didn't). \n",
    "\n",
    "- Split these into training and testing sets.\n",
    "    - Use 70% of the dataset for training, and 30% for testing. \n",
    "    - Make sure you set a random seed so that your results are reproducible.\n",
    "\n",
    "- Initialise an XGBoost model and train it on the relevant datasets. \n",
    "\n",
    "- Use your model to create predictions, then \n",
    "    - For your testing data, calculate the accuracy and 'macro' f1 score, and print these values to three decimal places.\n",
    "    - Create an AUC plot using your testing dataset. \n",
    "    - Create a confusion matrix using your testing dataset. (hint: if this doesn't display in the notebook, try adding '.plot()' to the end of your code)\n",
    "\n",
    "*(20 marks)*"
   ]
  },
  {
   "cell_type": "code",
   "execution_count": null,
   "metadata": {},
   "outputs": [],
   "source": [
    "import pandas as pd\n",
    "import numpy as np\n",
    "from xgboost.sklearn import XGBClassifier\n",
    "from sklearn.model_selection import train_test_split\n",
    "from sklearn.metrics import RocCurveDisplay, accuracy_score, f1_score, \\\n",
    "                            confusion_matrix, ConfusionMatrixDisplay\n",
    "\n",
    "treats_df = pd.read_csv(\"data/prince_treats.csv\")\n",
    "\n",
    "# ADD YOUR CODE\n"
   ]
  },
  {
   "cell_type": "markdown",
   "metadata": {},
   "source": [
    "#### SECTION F - NATURAL LANGUAGE PROCESSING"
   ]
  },
  {
   "cell_type": "markdown",
   "metadata": {},
   "source": [
    "**Task F** \n",
    "\n",
    "*Use the **nlp_basics** environment for this question.*  **IMPORTANT-You will need to pip install the `requests` library in this environment in order for the code to work, if you have not already done so**\n",
    "\n",
    "The code cell below reads in the sarcastic reviews HSMAs wrote for session 5C of HSMA 6.  Add to this code cell to vectorize the text in each review using a bag of words representation.  Convert the vectorization into a Pandas DataFrame, and then :\n",
    "\n",
    "1. print the vector of numbers representing the second review\n",
    "2. print the frequencies of the word \"world\" across all 10 reviews\n",
    "\n",
    "*(20 marks)*"
   ]
  },
  {
   "cell_type": "code",
   "execution_count": null,
   "metadata": {},
   "outputs": [],
   "source": [
    "import urllib.request\n",
    "import pandas as pd\n",
    "import requests\n",
    "from sklearn.feature_extraction.text import CountVectorizer\n",
    "\n",
    "list_of_reviews = []\n",
    "\n",
    "for review_num in range(1,11):\n",
    "    url = (\"https://raw.githubusercontent.com/hsma-programme/\"\n",
    "           \"h6_5c_sentiment_analysis/main/5c_sentiment_analysis/\"\n",
    "           f\"sarcastic_reviews/sarcastic_{review_num}.txt\")\n",
    "    response = requests.get(url)\n",
    "    list_of_reviews.append(response.text)\n",
    "\n",
    "# ADD YOUR CODE"
   ]
  },
  {
   "cell_type": "markdown",
   "metadata": {},
   "source": [
    "#### SECTION G - BEHAVIOURAL MODELLING"
   ]
  },
  {
   "cell_type": "markdown",
   "metadata": {},
   "source": [
    "**Task G** \n",
    "\n",
    "*Use the **abs** environment for this question*\n",
    "\n",
    "The code below is setting up an Agent Based Simulation of a zombie apocalypse in MESA.  However, there are three methods missing in the `Human` class, which you need to write :\n",
    "1. a `move` method which will move the agent to a *different* cell at random using a Moore neighbourhood\n",
    "2. an `infect` method which will check if there are other agents in the same cell, and if so will turn any non-zombies in the cell into zombies based on the infection probability of the zombie (this method will only called by the step function if the agent is a zombie, so you don't need to check that logic in this method).  If the zombie turns others into zombies, they should also halve the movement frequency of their newly infected victims.\n",
    "3. a `step` method which will first decide whether or not to move the agent (based on their movement probability), and if so begin the move process, and then check whether they are a zombie, and if so begin the infection process.\n",
    "\n",
    "*(20 marks)*"
   ]
  },
  {
   "cell_type": "code",
   "execution_count": null,
   "metadata": {},
   "outputs": [],
   "source": [
    "import mesa\n",
    "\n",
    "from mesa import Agent, Model\n",
    "from mesa.time import RandomActivation\n",
    "from mesa.space import MultiGrid\n",
    "from mesa.datacollection import DataCollector\n",
    "\n",
    "import random\n",
    "import pandas as pd\n",
    "\n",
    "class Human(Agent):\n",
    "    def __init__(self, unique_id, model, initial_zombie_prob, infect_prob,\n",
    "                 movement_prob):\n",
    "        super().__init__(unique_id, model)\n",
    "\n",
    "        self.infect_prob = infect_prob\n",
    "        self.movement_prob = movement_prob\n",
    "\n",
    "        if random.uniform(0, 1) < initial_zombie_prob:\n",
    "            self.is_a_zombie = True\n",
    "            self.movement_prob = self.movement_prob / 2\n",
    "        else:\n",
    "            self.is_a_zombie = False\n",
    "\n",
    "    # ADD YOUR CODE\n",
    "\n",
    "class Zombie_Model(Model):\n",
    "    def __init__(self, N, width, height, initial_zombie_prob, infect_prob,\n",
    "                 movement_prob):\n",
    "        self.running = True\n",
    "        self.num_agents = N\n",
    "        self.grid = MultiGrid(width, height, True)\n",
    "        self.schedule = RandomActivation(self)\n",
    "\n",
    "        for i in range(self.num_agents):\n",
    "            h = Human(i, self, initial_zombie_prob, infect_prob, movement_prob)\n",
    "            self.schedule.add(h)\n",
    "\n",
    "            self.grid.place_agent(h, (\n",
    "                random.randrange(self.grid.width),\n",
    "                random.randrange(self.grid.height)\n",
    "            ))\n",
    "\n",
    "        self.datacollector = DataCollector(\n",
    "            model_reporters = {\"Total Zombies\":calculate_number_of_zombies},\n",
    "            agent_reporters = {}\n",
    "        )\n",
    "\n",
    "    def step(self):\n",
    "        self.datacollector.collect(self)\n",
    "\n",
    "        self.schedule.step()\n",
    "\n",
    "def calculate_number_of_zombies(model):\n",
    "    zombie_list = [True for human in model.schedule.agents\n",
    "                   if human.is_a_zombie == True]\n",
    "\n",
    "    return len(zombie_list)\n",
    "\n",
    "params = {\"width\":100,\n",
    "          \"height\":100,\n",
    "          \"N\":100,\n",
    "          \"initial_zombie_prob\":0.3,\n",
    "          \"infect_prob\":0.8,\n",
    "          \"movement_prob\":0.7}\n",
    "\n",
    "results = mesa.batch_run(\n",
    "    Zombie_Model,\n",
    "    parameters=params,\n",
    "    iterations=2,\n",
    "    max_steps=200,\n",
    "    number_processes=1,\n",
    "    data_collection_period=-1,\n",
    "    display_progress=True\n",
    ")\n",
    "\n",
    "results_df = pd.DataFrame(results)\n",
    "print (results_df)"
   ]
  },
  {
   "cell_type": "markdown",
   "metadata": {},
   "source": [
    "#### SECTION H - STREAMLIT"
   ]
  },
  {
   "cell_type": "markdown",
   "metadata": {},
   "source": [
    "**TASK H**\n",
    "\n",
    "*Use the **hsma_webdev** environment for this question*\n",
    "\n",
    "*HINT - You may wish to write the app in a separate .py file so you can test it and ensure it runs correctly. Make sure you then paste your code into the code cell below when you are done.*\n",
    "\n",
    "You have been provided with\n",
    "- a *dataframe* of **yearly** counts of a series of animals (animal_df)\n",
    "- a *list* of the individual animals represented in the dataset (animal_list)\n",
    "\n",
    "You have also been provided with two functions\n",
    "- get_fact()\n",
    "- get_image()\n",
    "\n",
    "Write a Streamlit app that\n",
    "\n",
    "- displays an appropriate title\n",
    "- provides the user with a way of selecting an **animal**. You can use any appropriate user input you like to allow them to select this. \n",
    "- provides a 'run' button for the user to press. \n",
    "\n",
    "**All graphs and tables in the app should reflect the selected animal - you will need to filter the dataframes to achieve this**\n",
    "\n",
    "When the user presses the button, two tabs should appear.\n",
    "\n",
    "**In tab 1**\n",
    "\n",
    "*In column 1*\n",
    "- display the fact about the animal using the *get_fact()* function and an appropriate streamlit command\n",
    "\n",
    "*In column 2*\n",
    "- display a picture of the animal using the *get_image()* function and an appropriate streamlit command\n",
    "\n",
    "**In tab 2**\n",
    "\n",
    "- display a line plot of how many of that animal have been counted each year using a plotting library of your choice\n",
    "\n",
    "- display your filtered dataframe using an appropriate streamlit command. *Don't worry if the 'year' column displays a bit strangely!*\n",
    "\n",
    "\n",
    "Finally, When you have completed the above tasks, change the original data import to use **caching**.\n",
    "\n",
    "*(20 marks)*\n"
   ]
  },
  {
   "cell_type": "code",
   "execution_count": null,
   "metadata": {},
   "outputs": [],
   "source": [
    "import streamlit as st\n",
    "import pandas as pd\n",
    "import plotly.express as px\n",
    "\n",
    "# A dataframe of animals, containing yearly counts, facts and image links\n",
    "animal_df = pd.read_csv(\"data/animal_counts.csv\").sort_values([\"Common_name\", \"Year\"])\n",
    "# A list of the unique animals in the dataset\n",
    "animals = animal_df[\"Common_name\"].unique()\n",
    "\n",
    "def get_fact(dataframe):\n",
    "    return dataframe[\"Fact\"].values[0]\n",
    "\n",
    "def get_image(dataframe):\n",
    "    return dataframe[\"Image\"].values[0]\n",
    "\n",
    "# ADD YOUR CODE"
   ]
  }
 ],
 "metadata": {
  "kernelspec": {
   "display_name": "nlp_basics",
   "language": "python",
   "name": "python3"
  },
  "language_info": {
   "codemirror_mode": {
    "name": "ipython",
    "version": 3
   },
   "file_extension": ".py",
   "mimetype": "text/x-python",
   "name": "python",
   "nbconvert_exporter": "python",
   "pygments_lexer": "ipython3",
   "version": "3.11.4"
  }
 },
 "nbformat": 4,
 "nbformat_minor": 2
}
